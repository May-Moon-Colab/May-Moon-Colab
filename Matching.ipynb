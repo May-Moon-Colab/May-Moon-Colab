{
  "cells": [
    {
      "cell_type": "markdown",
      "metadata": {
        "id": "view-in-github",
        "colab_type": "text"
      },
      "source": [
        "<a href=\"https://colab.research.google.com/github/May-Moon-Colab/May-Moon-Colab/blob/main/Matching.ipynb\" target=\"_parent\"><img src=\"https://colab.research.google.com/assets/colab-badge.svg\" alt=\"Open In Colab\"/></a>"
      ]
    },
    {
      "cell_type": "markdown",
      "source": [
        "#CASE STUDY: Catholic Schools & Standardized Tests (Briefing)\n",
        "  DESCRIPTION:\n",
        "\n",
        "  Use Matching to understand whether catholic schoolsare better than others (from a standardized test score view).\n",
        "     \n",
        "  * 1. We have a dataset with kids' backgrounds, their parents upbringing among others.\n",
        "  * 2. The key metric of success is the standardized test scores.\n",
        "  * 3. We need to re-create a comparable control group.\n"
      ],
      "metadata": {
        "id": "NoW-1Zv5K3bD"
      }
    },
    {
      "cell_type": "markdown",
      "metadata": {
        "id": "ROtO7SCU0PmX"
      },
      "source": [
        "#Libraries Directory, and Data"
      ]
    },
    {
      "cell_type": "code",
      "execution_count": null,
      "metadata": {
        "colab": {
          "base_uri": "https://localhost:8080/"
        },
        "id": "B-5ltr0c0Zor",
        "outputId": "ab6c80f6-362d-4dac-8e8d-ce5aeead3029"
      },
      "outputs": [
        {
          "output_type": "stream",
          "name": "stdout",
          "text": [
            "/content/drive/MyDrive/Business Analyst course/Econometrics and Causal Inference/Matching\n"
          ]
        }
      ],
      "source": [
        "#direcrtory\n",
        "%cd /content/drive/MyDrive/Business Analyst course/Econometrics and Causal Inference/Matching"
      ]
    },
    {
      "cell_type": "code",
      "execution_count": null,
      "metadata": {
        "colab": {
          "base_uri": "https://localhost:8080/"
        },
        "id": "ds6jrU0c0gMq",
        "outputId": "284c02ae-2b23-4bf4-bd78-f9082d9a6be1"
      },
      "outputs": [
        {
          "output_type": "stream",
          "name": "stdout",
          "text": [
            "Looking in indexes: https://pypi.org/simple, https://us-python.pkg.dev/colab-wheels/public/simple/\n",
            "Collecting CausalInference\n",
            "  Downloading CausalInference-0.1.3-py3-none-any.whl (51 kB)\n",
            "\u001b[2K     \u001b[90m━━━━━━━━━━━━━━━━━━━━━━━━━━━━━━━━━━━━━━━━\u001b[0m \u001b[32m51.1/51.1 KB\u001b[0m \u001b[31m2.3 MB/s\u001b[0m eta \u001b[36m0:00:00\u001b[0m\n",
            "\u001b[?25hInstalling collected packages: CausalInference\n",
            "Successfully installed CausalInference-0.1.3\n"
          ]
        }
      ],
      "source": [
        "#install library\n",
        "!pip install CausalInference"
      ]
    },
    {
      "cell_type": "code",
      "execution_count": 10,
      "metadata": {
        "id": "vW8bxd1R0lN_"
      },
      "outputs": [],
      "source": [
        "#Import libraries\n",
        "import pandas as pd\n",
        "import numpy as np\n",
        "import seaborn as sns\n",
        "import scipy.stats as ss\n",
        "from causalinference import CausalModel\n"
      ]
    },
    {
      "cell_type": "code",
      "execution_count": null,
      "metadata": {
        "colab": {
          "base_uri": "https://localhost:8080/",
          "height": 478
        },
        "id": "aUQTPUc71FZE",
        "outputId": "53c234b7-d982-4274-f492-5ecd081204a0"
      },
      "outputs": [
        {
          "output_type": "execute_result",
          "data": {
            "text/plain": [
              "   catholic                 race  number_places_lived  mom_age  dad_age  \\\n",
              "0         0  WHITE, NON-HISPANIC                    1       47       45   \n",
              "1         0  WHITE, NON-HISPANIC                    1       41       48   \n",
              "2         0  WHITE, NON-HISPANIC                    1       43       55   \n",
              "3         1  WHITE, NON-HISPANIC                    1       38       39   \n",
              "4         0  WHITE, NON-HISPANIC                    1       47       57   \n",
              "\n",
              "                      dad_education                           mom_education  \\\n",
              "0  DOCTORATE OR PROFESSIONAL DEGREE                            SOME COLLEGE   \n",
              "1                 BACHELOR'S DEGREE  GRADUATE/PROFESSIONAL SCHOOL-NO DEGREE   \n",
              "2          MASTER'S DEGREE (MA, MS)  GRADUATE/PROFESSIONAL SCHOOL-NO DEGREE   \n",
              "3                 BACHELOR'S DEGREE  GRADUATE/PROFESSIONAL SCHOOL-NO DEGREE   \n",
              "4  DOCTORATE OR PROFESSIONAL DEGREE                MASTER'S DEGREE (MA, MS)   \n",
              "\n",
              "   mom_score  dad_score    income  poverty  food_stamps  score_standardized  \n",
              "0      53.50       77.5   62500.5        0            0            0.981753  \n",
              "1      34.95       53.5   45000.5        0            0            0.594378  \n",
              "2      63.43       53.5   62500.5        0            0            0.490611  \n",
              "3      53.50       53.5   87500.5        0            0            1.451278  \n",
              "4      61.56       77.5  150000.5        0            0            2.595699  "
            ],
            "text/html": [
              "\n",
              "  <div id=\"df-003a404c-5dd9-49bb-a8a3-0ddf85820fff\">\n",
              "    <div class=\"colab-df-container\">\n",
              "      <div>\n",
              "<style scoped>\n",
              "    .dataframe tbody tr th:only-of-type {\n",
              "        vertical-align: middle;\n",
              "    }\n",
              "\n",
              "    .dataframe tbody tr th {\n",
              "        vertical-align: top;\n",
              "    }\n",
              "\n",
              "    .dataframe thead th {\n",
              "        text-align: right;\n",
              "    }\n",
              "</style>\n",
              "<table border=\"1\" class=\"dataframe\">\n",
              "  <thead>\n",
              "    <tr style=\"text-align: right;\">\n",
              "      <th></th>\n",
              "      <th>catholic</th>\n",
              "      <th>race</th>\n",
              "      <th>number_places_lived</th>\n",
              "      <th>mom_age</th>\n",
              "      <th>dad_age</th>\n",
              "      <th>dad_education</th>\n",
              "      <th>mom_education</th>\n",
              "      <th>mom_score</th>\n",
              "      <th>dad_score</th>\n",
              "      <th>income</th>\n",
              "      <th>poverty</th>\n",
              "      <th>food_stamps</th>\n",
              "      <th>score_standardized</th>\n",
              "    </tr>\n",
              "  </thead>\n",
              "  <tbody>\n",
              "    <tr>\n",
              "      <th>0</th>\n",
              "      <td>0</td>\n",
              "      <td>WHITE, NON-HISPANIC</td>\n",
              "      <td>1</td>\n",
              "      <td>47</td>\n",
              "      <td>45</td>\n",
              "      <td>DOCTORATE OR PROFESSIONAL DEGREE</td>\n",
              "      <td>SOME COLLEGE</td>\n",
              "      <td>53.50</td>\n",
              "      <td>77.5</td>\n",
              "      <td>62500.5</td>\n",
              "      <td>0</td>\n",
              "      <td>0</td>\n",
              "      <td>0.981753</td>\n",
              "    </tr>\n",
              "    <tr>\n",
              "      <th>1</th>\n",
              "      <td>0</td>\n",
              "      <td>WHITE, NON-HISPANIC</td>\n",
              "      <td>1</td>\n",
              "      <td>41</td>\n",
              "      <td>48</td>\n",
              "      <td>BACHELOR'S DEGREE</td>\n",
              "      <td>GRADUATE/PROFESSIONAL SCHOOL-NO DEGREE</td>\n",
              "      <td>34.95</td>\n",
              "      <td>53.5</td>\n",
              "      <td>45000.5</td>\n",
              "      <td>0</td>\n",
              "      <td>0</td>\n",
              "      <td>0.594378</td>\n",
              "    </tr>\n",
              "    <tr>\n",
              "      <th>2</th>\n",
              "      <td>0</td>\n",
              "      <td>WHITE, NON-HISPANIC</td>\n",
              "      <td>1</td>\n",
              "      <td>43</td>\n",
              "      <td>55</td>\n",
              "      <td>MASTER'S DEGREE (MA, MS)</td>\n",
              "      <td>GRADUATE/PROFESSIONAL SCHOOL-NO DEGREE</td>\n",
              "      <td>63.43</td>\n",
              "      <td>53.5</td>\n",
              "      <td>62500.5</td>\n",
              "      <td>0</td>\n",
              "      <td>0</td>\n",
              "      <td>0.490611</td>\n",
              "    </tr>\n",
              "    <tr>\n",
              "      <th>3</th>\n",
              "      <td>1</td>\n",
              "      <td>WHITE, NON-HISPANIC</td>\n",
              "      <td>1</td>\n",
              "      <td>38</td>\n",
              "      <td>39</td>\n",
              "      <td>BACHELOR'S DEGREE</td>\n",
              "      <td>GRADUATE/PROFESSIONAL SCHOOL-NO DEGREE</td>\n",
              "      <td>53.50</td>\n",
              "      <td>53.5</td>\n",
              "      <td>87500.5</td>\n",
              "      <td>0</td>\n",
              "      <td>0</td>\n",
              "      <td>1.451278</td>\n",
              "    </tr>\n",
              "    <tr>\n",
              "      <th>4</th>\n",
              "      <td>0</td>\n",
              "      <td>WHITE, NON-HISPANIC</td>\n",
              "      <td>1</td>\n",
              "      <td>47</td>\n",
              "      <td>57</td>\n",
              "      <td>DOCTORATE OR PROFESSIONAL DEGREE</td>\n",
              "      <td>MASTER'S DEGREE (MA, MS)</td>\n",
              "      <td>61.56</td>\n",
              "      <td>77.5</td>\n",
              "      <td>150000.5</td>\n",
              "      <td>0</td>\n",
              "      <td>0</td>\n",
              "      <td>2.595699</td>\n",
              "    </tr>\n",
              "  </tbody>\n",
              "</table>\n",
              "</div>\n",
              "      <button class=\"colab-df-convert\" onclick=\"convertToInteractive('df-003a404c-5dd9-49bb-a8a3-0ddf85820fff')\"\n",
              "              title=\"Convert this dataframe to an interactive table.\"\n",
              "              style=\"display:none;\">\n",
              "        \n",
              "  <svg xmlns=\"http://www.w3.org/2000/svg\" height=\"24px\"viewBox=\"0 0 24 24\"\n",
              "       width=\"24px\">\n",
              "    <path d=\"M0 0h24v24H0V0z\" fill=\"none\"/>\n",
              "    <path d=\"M18.56 5.44l.94 2.06.94-2.06 2.06-.94-2.06-.94-.94-2.06-.94 2.06-2.06.94zm-11 1L8.5 8.5l.94-2.06 2.06-.94-2.06-.94L8.5 2.5l-.94 2.06-2.06.94zm10 10l.94 2.06.94-2.06 2.06-.94-2.06-.94-.94-2.06-.94 2.06-2.06.94z\"/><path d=\"M17.41 7.96l-1.37-1.37c-.4-.4-.92-.59-1.43-.59-.52 0-1.04.2-1.43.59L10.3 9.45l-7.72 7.72c-.78.78-.78 2.05 0 2.83L4 21.41c.39.39.9.59 1.41.59.51 0 1.02-.2 1.41-.59l7.78-7.78 2.81-2.81c.8-.78.8-2.07 0-2.86zM5.41 20L4 18.59l7.72-7.72 1.47 1.35L5.41 20z\"/>\n",
              "  </svg>\n",
              "      </button>\n",
              "      \n",
              "  <style>\n",
              "    .colab-df-container {\n",
              "      display:flex;\n",
              "      flex-wrap:wrap;\n",
              "      gap: 12px;\n",
              "    }\n",
              "\n",
              "    .colab-df-convert {\n",
              "      background-color: #E8F0FE;\n",
              "      border: none;\n",
              "      border-radius: 50%;\n",
              "      cursor: pointer;\n",
              "      display: none;\n",
              "      fill: #1967D2;\n",
              "      height: 32px;\n",
              "      padding: 0 0 0 0;\n",
              "      width: 32px;\n",
              "    }\n",
              "\n",
              "    .colab-df-convert:hover {\n",
              "      background-color: #E2EBFA;\n",
              "      box-shadow: 0px 1px 2px rgba(60, 64, 67, 0.3), 0px 1px 3px 1px rgba(60, 64, 67, 0.15);\n",
              "      fill: #174EA6;\n",
              "    }\n",
              "\n",
              "    [theme=dark] .colab-df-convert {\n",
              "      background-color: #3B4455;\n",
              "      fill: #D2E3FC;\n",
              "    }\n",
              "\n",
              "    [theme=dark] .colab-df-convert:hover {\n",
              "      background-color: #434B5C;\n",
              "      box-shadow: 0px 1px 3px 1px rgba(0, 0, 0, 0.15);\n",
              "      filter: drop-shadow(0px 1px 2px rgba(0, 0, 0, 0.3));\n",
              "      fill: #FFFFFF;\n",
              "    }\n",
              "  </style>\n",
              "\n",
              "      <script>\n",
              "        const buttonEl =\n",
              "          document.querySelector('#df-003a404c-5dd9-49bb-a8a3-0ddf85820fff button.colab-df-convert');\n",
              "        buttonEl.style.display =\n",
              "          google.colab.kernel.accessAllowed ? 'block' : 'none';\n",
              "\n",
              "        async function convertToInteractive(key) {\n",
              "          const element = document.querySelector('#df-003a404c-5dd9-49bb-a8a3-0ddf85820fff');\n",
              "          const dataTable =\n",
              "            await google.colab.kernel.invokeFunction('convertToInteractive',\n",
              "                                                     [key], {});\n",
              "          if (!dataTable) return;\n",
              "\n",
              "          const docLinkHtml = 'Like what you see? Visit the ' +\n",
              "            '<a target=\"_blank\" href=https://colab.research.google.com/notebooks/data_table.ipynb>data table notebook</a>'\n",
              "            + ' to learn more about interactive tables.';\n",
              "          element.innerHTML = '';\n",
              "          dataTable['output_type'] = 'display_data';\n",
              "          await google.colab.output.renderOutput(dataTable, element);\n",
              "          const docLink = document.createElement('div');\n",
              "          docLink.innerHTML = docLinkHtml;\n",
              "          element.appendChild(docLink);\n",
              "        }\n",
              "      </script>\n",
              "    </div>\n",
              "  </div>\n",
              "  "
            ]
          },
          "metadata": {},
          "execution_count": 4
        }
      ],
      "source": [
        "#Data\n",
        "df = pd.read_csv(\"school.csv\")\n",
        "df = df.iloc[:,1:]\n",
        "df.head()"
      ]
    },
    {
      "cell_type": "markdown",
      "source": [
        "#Data Analysis"
      ],
      "metadata": {
        "id": "nf7atDjx1Sjg"
      }
    },
    {
      "cell_type": "code",
      "source": [
        "#compare the averages of both groups\n",
        "df.groupby('catholic').mean()"
      ],
      "metadata": {
        "colab": {
          "base_uri": "https://localhost:8080/",
          "height": 143
        },
        "id": "YNGrl3I4Smdh",
        "outputId": "ace1e3fc-6db0-4dc1-a31c-7a43f3427fe7"
      },
      "execution_count": 7,
      "outputs": [
        {
          "output_type": "execute_result",
          "data": {
            "text/plain": [
              "          number_places_lived    mom_age    dad_age  mom_score  dad_score  \\\n",
              "catholic                                                                    \n",
              "0                    1.106246  37.794621  40.134919  43.909495  42.590520   \n",
              "1                    1.073118  39.775269  42.007527  47.620871  45.908269   \n",
              "\n",
              "                income   poverty  food_stamps  score_standardized  \n",
              "catholic                                                           \n",
              "0         65393.928540  0.101578     0.045566            0.163128  \n",
              "1         86180.625269  0.016129     0.006452            0.219685  "
            ],
            "text/html": [
              "\n",
              "  <div id=\"df-5e867047-cf94-4803-a160-fc4c557d583a\">\n",
              "    <div class=\"colab-df-container\">\n",
              "      <div>\n",
              "<style scoped>\n",
              "    .dataframe tbody tr th:only-of-type {\n",
              "        vertical-align: middle;\n",
              "    }\n",
              "\n",
              "    .dataframe tbody tr th {\n",
              "        vertical-align: top;\n",
              "    }\n",
              "\n",
              "    .dataframe thead th {\n",
              "        text-align: right;\n",
              "    }\n",
              "</style>\n",
              "<table border=\"1\" class=\"dataframe\">\n",
              "  <thead>\n",
              "    <tr style=\"text-align: right;\">\n",
              "      <th></th>\n",
              "      <th>number_places_lived</th>\n",
              "      <th>mom_age</th>\n",
              "      <th>dad_age</th>\n",
              "      <th>mom_score</th>\n",
              "      <th>dad_score</th>\n",
              "      <th>income</th>\n",
              "      <th>poverty</th>\n",
              "      <th>food_stamps</th>\n",
              "      <th>score_standardized</th>\n",
              "    </tr>\n",
              "    <tr>\n",
              "      <th>catholic</th>\n",
              "      <th></th>\n",
              "      <th></th>\n",
              "      <th></th>\n",
              "      <th></th>\n",
              "      <th></th>\n",
              "      <th></th>\n",
              "      <th></th>\n",
              "      <th></th>\n",
              "      <th></th>\n",
              "    </tr>\n",
              "  </thead>\n",
              "  <tbody>\n",
              "    <tr>\n",
              "      <th>0</th>\n",
              "      <td>1.106246</td>\n",
              "      <td>37.794621</td>\n",
              "      <td>40.134919</td>\n",
              "      <td>43.909495</td>\n",
              "      <td>42.590520</td>\n",
              "      <td>65393.928540</td>\n",
              "      <td>0.101578</td>\n",
              "      <td>0.045566</td>\n",
              "      <td>0.163128</td>\n",
              "    </tr>\n",
              "    <tr>\n",
              "      <th>1</th>\n",
              "      <td>1.073118</td>\n",
              "      <td>39.775269</td>\n",
              "      <td>42.007527</td>\n",
              "      <td>47.620871</td>\n",
              "      <td>45.908269</td>\n",
              "      <td>86180.625269</td>\n",
              "      <td>0.016129</td>\n",
              "      <td>0.006452</td>\n",
              "      <td>0.219685</td>\n",
              "    </tr>\n",
              "  </tbody>\n",
              "</table>\n",
              "</div>\n",
              "      <button class=\"colab-df-convert\" onclick=\"convertToInteractive('df-5e867047-cf94-4803-a160-fc4c557d583a')\"\n",
              "              title=\"Convert this dataframe to an interactive table.\"\n",
              "              style=\"display:none;\">\n",
              "        \n",
              "  <svg xmlns=\"http://www.w3.org/2000/svg\" height=\"24px\"viewBox=\"0 0 24 24\"\n",
              "       width=\"24px\">\n",
              "    <path d=\"M0 0h24v24H0V0z\" fill=\"none\"/>\n",
              "    <path d=\"M18.56 5.44l.94 2.06.94-2.06 2.06-.94-2.06-.94-.94-2.06-.94 2.06-2.06.94zm-11 1L8.5 8.5l.94-2.06 2.06-.94-2.06-.94L8.5 2.5l-.94 2.06-2.06.94zm10 10l.94 2.06.94-2.06 2.06-.94-2.06-.94-.94-2.06-.94 2.06-2.06.94z\"/><path d=\"M17.41 7.96l-1.37-1.37c-.4-.4-.92-.59-1.43-.59-.52 0-1.04.2-1.43.59L10.3 9.45l-7.72 7.72c-.78.78-.78 2.05 0 2.83L4 21.41c.39.39.9.59 1.41.59.51 0 1.02-.2 1.41-.59l7.78-7.78 2.81-2.81c.8-.78.8-2.07 0-2.86zM5.41 20L4 18.59l7.72-7.72 1.47 1.35L5.41 20z\"/>\n",
              "  </svg>\n",
              "      </button>\n",
              "      \n",
              "  <style>\n",
              "    .colab-df-container {\n",
              "      display:flex;\n",
              "      flex-wrap:wrap;\n",
              "      gap: 12px;\n",
              "    }\n",
              "\n",
              "    .colab-df-convert {\n",
              "      background-color: #E8F0FE;\n",
              "      border: none;\n",
              "      border-radius: 50%;\n",
              "      cursor: pointer;\n",
              "      display: none;\n",
              "      fill: #1967D2;\n",
              "      height: 32px;\n",
              "      padding: 0 0 0 0;\n",
              "      width: 32px;\n",
              "    }\n",
              "\n",
              "    .colab-df-convert:hover {\n",
              "      background-color: #E2EBFA;\n",
              "      box-shadow: 0px 1px 2px rgba(60, 64, 67, 0.3), 0px 1px 3px 1px rgba(60, 64, 67, 0.15);\n",
              "      fill: #174EA6;\n",
              "    }\n",
              "\n",
              "    [theme=dark] .colab-df-convert {\n",
              "      background-color: #3B4455;\n",
              "      fill: #D2E3FC;\n",
              "    }\n",
              "\n",
              "    [theme=dark] .colab-df-convert:hover {\n",
              "      background-color: #434B5C;\n",
              "      box-shadow: 0px 1px 3px 1px rgba(0, 0, 0, 0.15);\n",
              "      filter: drop-shadow(0px 1px 2px rgba(0, 0, 0, 0.3));\n",
              "      fill: #FFFFFF;\n",
              "    }\n",
              "  </style>\n",
              "\n",
              "      <script>\n",
              "        const buttonEl =\n",
              "          document.querySelector('#df-5e867047-cf94-4803-a160-fc4c557d583a button.colab-df-convert');\n",
              "        buttonEl.style.display =\n",
              "          google.colab.kernel.accessAllowed ? 'block' : 'none';\n",
              "\n",
              "        async function convertToInteractive(key) {\n",
              "          const element = document.querySelector('#df-5e867047-cf94-4803-a160-fc4c557d583a');\n",
              "          const dataTable =\n",
              "            await google.colab.kernel.invokeFunction('convertToInteractive',\n",
              "                                                     [key], {});\n",
              "          if (!dataTable) return;\n",
              "\n",
              "          const docLinkHtml = 'Like what you see? Visit the ' +\n",
              "            '<a target=\"_blank\" href=https://colab.research.google.com/notebooks/data_table.ipynb>data table notebook</a>'\n",
              "            + ' to learn more about interactive tables.';\n",
              "          element.innerHTML = '';\n",
              "          dataTable['output_type'] = 'display_data';\n",
              "          await google.colab.output.renderOutput(dataTable, element);\n",
              "          const docLink = document.createElement('div');\n",
              "          docLink.innerHTML = docLinkHtml;\n",
              "          element.appendChild(docLink);\n",
              "        }\n",
              "      </script>\n",
              "    </div>\n",
              "  </div>\n",
              "  "
            ]
          },
          "metadata": {},
          "execution_count": 7
        }
      ]
    },
    {
      "cell_type": "code",
      "source": [
        "#t-test\n",
        "group1 = df.where(df.catholic == 0).dropna()['income']\n",
        "group2 = df.where(df.catholic == 1).dropna()['income']\n",
        "stat, p = ss.ttest_ind(group1, group2)\n",
        "print(p)"
      ],
      "metadata": {
        "colab": {
          "base_uri": "https://localhost:8080/"
        },
        "id": "5Fe-g7CISt0I",
        "outputId": "4849c85a-5df1-4c1c-9dc1-808e67fc4747"
      },
      "execution_count": 13,
      "outputs": [
        {
          "output_type": "stream",
          "name": "stdout",
          "text": [
            "5.943636213205364e-41\n"
          ]
        }
      ]
    },
    {
      "cell_type": "code",
      "source": [
        "#get the continuous variables\n",
        "continuous = [\"number_places_lived\", \"mom_age\", \"income\", \"dad_age\", \"mom_score\", \"dad_score\", \"income\"]\n",
        "#storig results\n",
        "stat = {}\n",
        "p = {}\n",
        "#loop\n",
        "for x in continuous:\n",
        "  group1 = df.where(df.catholic == 0).dropna()[x]\n",
        "  group2 = df.where(df.catholic == 1).dropna()[x]\n",
        "  stat[x], p[x] = ss.ttest_ind(group1, group2)\n",
        "ttests = pd.DataFrame.from_dict(p, orient = \"Index\")\n",
        "ttests.columns = [\"pvalue\"]\n",
        "print(ttests)"
      ],
      "metadata": {
        "colab": {
          "base_uri": "https://localhost:8080/"
        },
        "id": "Pr4KoFjbTQN3",
        "outputId": "ca7ce7d5-1f30-408a-b08b-27f86d3d5b7e"
      },
      "execution_count": 16,
      "outputs": [
        {
          "output_type": "stream",
          "name": "stdout",
          "text": [
            "                           pvalue\n",
            "number_places_lived  7.072609e-03\n",
            "mom_age              1.359492e-22\n",
            "income               5.943636e-41\n",
            "dad_age              3.344265e-16\n",
            "mom_score            2.280116e-19\n",
            "dad_score            5.489722e-18\n"
          ]
        }
      ]
    },
    {
      "cell_type": "code",
      "source": [
        "#chi-square\n",
        "tab = pd.crosstab(index = df.poverty,\n",
        "            columns = df.catholic)\n",
        "stat, p ,dof,exp = ss.chi2_contingency(tab)\n",
        "print(p)"
      ],
      "metadata": {
        "colab": {
          "base_uri": "https://localhost:8080/"
        },
        "id": "hcxFkA9UVc3o",
        "outputId": "e3bfe8be-bb7e-4570-acdd-9f11439b0adc"
      },
      "execution_count": 20,
      "outputs": [
        {
          "output_type": "stream",
          "name": "stdout",
          "text": [
            "6.511354893726035e-17\n"
          ]
        }
      ]
    },
    {
      "cell_type": "code",
      "source": [
        "#What to loop\n",
        "categorical = [\"poverty\", \"food_stamps\"]\n",
        "\n",
        "#where to store\n",
        "p = {}\n",
        "\n",
        "#loop\n",
        "for y in categorical:\n",
        "  tab = pd.crosstab(index = df[y],\n",
        "            columns = df.catholic)\n",
        "  stat, p[y] ,dof , exp = ss.chi2_contingency(tab)\n",
        "chisquare= pd.DataFrame.from_dict(p, orient = \"Index\")\n",
        "chisquare.columns = [\"pvalue\"]\n",
        "print(chisquare)"
      ],
      "metadata": {
        "colab": {
          "base_uri": "https://localhost:8080/"
        },
        "id": "8uyeYMeErHOk",
        "outputId": "33a03b4d-35be-4305-f1c6-7020bd0ebda4"
      },
      "execution_count": 22,
      "outputs": [
        {
          "output_type": "stream",
          "name": "stdout",
          "text": [
            "                   pvalue\n",
            "poverty      6.511355e-17\n",
            "food_stamps  3.294153e-08\n"
          ]
        }
      ]
    },
    {
      "cell_type": "markdown",
      "source": [
        "#Data preparation"
      ],
      "metadata": {
        "id": "RT7kY47YtWWJ"
      }
    },
    {
      "cell_type": "code",
      "source": [
        "#Race variable\n",
        "df.race.value_counts()"
      ],
      "metadata": {
        "colab": {
          "base_uri": "https://localhost:8080/"
        },
        "id": "4eZuX8ITuuBF",
        "outputId": "82d6d9ce-df0a-4dd4-ba71-f192b825c2ac"
      },
      "execution_count": 23,
      "outputs": [
        {
          "output_type": "execute_result",
          "data": {
            "text/plain": [
              "WHITE, NON-HISPANIC                        3654\n",
              "HISPANIC, RACE NOT SPECIFIED                408\n",
              "HISPANIC, RACE SPECIFIED                    387\n",
              "BLACK OR AFRICAN AMERICAN, NON-HISPANIC     357\n",
              "ASIAN                                       342\n",
              "MORE THAN ONE RACE, NON HISPANIC            123\n",
              "NATIVE HAWAIIAN, OTHER PACIFIC ISLANDER      93\n",
              "AMERICAN INDIAN OR ALASKA NATIVE             62\n",
              "NOT ASCERTAINED                               3\n",
              "Name: race, dtype: int64"
            ]
          },
          "metadata": {},
          "execution_count": 23
        }
      ]
    },
    {
      "cell_type": "code",
      "source": [
        "#transforming race variable, no olvidar simbolo del palo ( '|' alt + 124)\n",
        "df['race_white'] = np.where(df.race == 'WHITE, NON-HISPANIC', 1, 0)\n",
        "df['race_hispanic'] = np.where((df.race == 'HISPANIC, RACE NOT SPECIFIED') |\n",
        "                               (df.race == 'HISPANIC, RACE SPECIFIED'), 1, 0)\n",
        "df['race_black'] = np.where(df.race == 'BLACK OR AFRICAN AMERICAN, NON-HISPANIC', 1, 0 )\n",
        "df['race_asian'] = np.where(df.race == 'ASIAN', 1, 0 )\n"
      ],
      "metadata": {
        "id": "ztEMv_zuu-pD"
      },
      "execution_count": 31,
      "outputs": []
    },
    {
      "cell_type": "code",
      "source": [
        "df.head()"
      ],
      "metadata": {
        "colab": {
          "base_uri": "https://localhost:8080/",
          "height": 478
        },
        "id": "DxvRPq4mv1kE",
        "outputId": "c517cad7-6bc5-47d8-8f99-40730b6f62a5"
      },
      "execution_count": 33,
      "outputs": [
        {
          "output_type": "execute_result",
          "data": {
            "text/plain": [
              "   catholic                 race  number_places_lived  mom_age  dad_age  \\\n",
              "0         0  WHITE, NON-HISPANIC                    1       47       45   \n",
              "1         0  WHITE, NON-HISPANIC                    1       41       48   \n",
              "2         0  WHITE, NON-HISPANIC                    1       43       55   \n",
              "3         1  WHITE, NON-HISPANIC                    1       38       39   \n",
              "4         0  WHITE, NON-HISPANIC                    1       47       57   \n",
              "\n",
              "                      dad_education                           mom_education  \\\n",
              "0  DOCTORATE OR PROFESSIONAL DEGREE                            SOME COLLEGE   \n",
              "1                 BACHELOR'S DEGREE  GRADUATE/PROFESSIONAL SCHOOL-NO DEGREE   \n",
              "2          MASTER'S DEGREE (MA, MS)  GRADUATE/PROFESSIONAL SCHOOL-NO DEGREE   \n",
              "3                 BACHELOR'S DEGREE  GRADUATE/PROFESSIONAL SCHOOL-NO DEGREE   \n",
              "4  DOCTORATE OR PROFESSIONAL DEGREE                MASTER'S DEGREE (MA, MS)   \n",
              "\n",
              "   mom_score  dad_score    income  poverty  food_stamps  score_standardized  \\\n",
              "0      53.50       77.5   62500.5        0            0            0.981753   \n",
              "1      34.95       53.5   45000.5        0            0            0.594378   \n",
              "2      63.43       53.5   62500.5        0            0            0.490611   \n",
              "3      53.50       53.5   87500.5        0            0            1.451278   \n",
              "4      61.56       77.5  150000.5        0            0            2.595699   \n",
              "\n",
              "   race_white  race_hispanic  race_black  race_asian  \n",
              "0           1              0           0           0  \n",
              "1           1              0           0           0  \n",
              "2           1              0           0           0  \n",
              "3           1              0           0           0  \n",
              "4           1              0           0           0  "
            ],
            "text/html": [
              "\n",
              "  <div id=\"df-e84fed60-5e7f-4e57-bbbc-4685190089c1\">\n",
              "    <div class=\"colab-df-container\">\n",
              "      <div>\n",
              "<style scoped>\n",
              "    .dataframe tbody tr th:only-of-type {\n",
              "        vertical-align: middle;\n",
              "    }\n",
              "\n",
              "    .dataframe tbody tr th {\n",
              "        vertical-align: top;\n",
              "    }\n",
              "\n",
              "    .dataframe thead th {\n",
              "        text-align: right;\n",
              "    }\n",
              "</style>\n",
              "<table border=\"1\" class=\"dataframe\">\n",
              "  <thead>\n",
              "    <tr style=\"text-align: right;\">\n",
              "      <th></th>\n",
              "      <th>catholic</th>\n",
              "      <th>race</th>\n",
              "      <th>number_places_lived</th>\n",
              "      <th>mom_age</th>\n",
              "      <th>dad_age</th>\n",
              "      <th>dad_education</th>\n",
              "      <th>mom_education</th>\n",
              "      <th>mom_score</th>\n",
              "      <th>dad_score</th>\n",
              "      <th>income</th>\n",
              "      <th>poverty</th>\n",
              "      <th>food_stamps</th>\n",
              "      <th>score_standardized</th>\n",
              "      <th>race_white</th>\n",
              "      <th>race_hispanic</th>\n",
              "      <th>race_black</th>\n",
              "      <th>race_asian</th>\n",
              "    </tr>\n",
              "  </thead>\n",
              "  <tbody>\n",
              "    <tr>\n",
              "      <th>0</th>\n",
              "      <td>0</td>\n",
              "      <td>WHITE, NON-HISPANIC</td>\n",
              "      <td>1</td>\n",
              "      <td>47</td>\n",
              "      <td>45</td>\n",
              "      <td>DOCTORATE OR PROFESSIONAL DEGREE</td>\n",
              "      <td>SOME COLLEGE</td>\n",
              "      <td>53.50</td>\n",
              "      <td>77.5</td>\n",
              "      <td>62500.5</td>\n",
              "      <td>0</td>\n",
              "      <td>0</td>\n",
              "      <td>0.981753</td>\n",
              "      <td>1</td>\n",
              "      <td>0</td>\n",
              "      <td>0</td>\n",
              "      <td>0</td>\n",
              "    </tr>\n",
              "    <tr>\n",
              "      <th>1</th>\n",
              "      <td>0</td>\n",
              "      <td>WHITE, NON-HISPANIC</td>\n",
              "      <td>1</td>\n",
              "      <td>41</td>\n",
              "      <td>48</td>\n",
              "      <td>BACHELOR'S DEGREE</td>\n",
              "      <td>GRADUATE/PROFESSIONAL SCHOOL-NO DEGREE</td>\n",
              "      <td>34.95</td>\n",
              "      <td>53.5</td>\n",
              "      <td>45000.5</td>\n",
              "      <td>0</td>\n",
              "      <td>0</td>\n",
              "      <td>0.594378</td>\n",
              "      <td>1</td>\n",
              "      <td>0</td>\n",
              "      <td>0</td>\n",
              "      <td>0</td>\n",
              "    </tr>\n",
              "    <tr>\n",
              "      <th>2</th>\n",
              "      <td>0</td>\n",
              "      <td>WHITE, NON-HISPANIC</td>\n",
              "      <td>1</td>\n",
              "      <td>43</td>\n",
              "      <td>55</td>\n",
              "      <td>MASTER'S DEGREE (MA, MS)</td>\n",
              "      <td>GRADUATE/PROFESSIONAL SCHOOL-NO DEGREE</td>\n",
              "      <td>63.43</td>\n",
              "      <td>53.5</td>\n",
              "      <td>62500.5</td>\n",
              "      <td>0</td>\n",
              "      <td>0</td>\n",
              "      <td>0.490611</td>\n",
              "      <td>1</td>\n",
              "      <td>0</td>\n",
              "      <td>0</td>\n",
              "      <td>0</td>\n",
              "    </tr>\n",
              "    <tr>\n",
              "      <th>3</th>\n",
              "      <td>1</td>\n",
              "      <td>WHITE, NON-HISPANIC</td>\n",
              "      <td>1</td>\n",
              "      <td>38</td>\n",
              "      <td>39</td>\n",
              "      <td>BACHELOR'S DEGREE</td>\n",
              "      <td>GRADUATE/PROFESSIONAL SCHOOL-NO DEGREE</td>\n",
              "      <td>53.50</td>\n",
              "      <td>53.5</td>\n",
              "      <td>87500.5</td>\n",
              "      <td>0</td>\n",
              "      <td>0</td>\n",
              "      <td>1.451278</td>\n",
              "      <td>1</td>\n",
              "      <td>0</td>\n",
              "      <td>0</td>\n",
              "      <td>0</td>\n",
              "    </tr>\n",
              "    <tr>\n",
              "      <th>4</th>\n",
              "      <td>0</td>\n",
              "      <td>WHITE, NON-HISPANIC</td>\n",
              "      <td>1</td>\n",
              "      <td>47</td>\n",
              "      <td>57</td>\n",
              "      <td>DOCTORATE OR PROFESSIONAL DEGREE</td>\n",
              "      <td>MASTER'S DEGREE (MA, MS)</td>\n",
              "      <td>61.56</td>\n",
              "      <td>77.5</td>\n",
              "      <td>150000.5</td>\n",
              "      <td>0</td>\n",
              "      <td>0</td>\n",
              "      <td>2.595699</td>\n",
              "      <td>1</td>\n",
              "      <td>0</td>\n",
              "      <td>0</td>\n",
              "      <td>0</td>\n",
              "    </tr>\n",
              "  </tbody>\n",
              "</table>\n",
              "</div>\n",
              "      <button class=\"colab-df-convert\" onclick=\"convertToInteractive('df-e84fed60-5e7f-4e57-bbbc-4685190089c1')\"\n",
              "              title=\"Convert this dataframe to an interactive table.\"\n",
              "              style=\"display:none;\">\n",
              "        \n",
              "  <svg xmlns=\"http://www.w3.org/2000/svg\" height=\"24px\"viewBox=\"0 0 24 24\"\n",
              "       width=\"24px\">\n",
              "    <path d=\"M0 0h24v24H0V0z\" fill=\"none\"/>\n",
              "    <path d=\"M18.56 5.44l.94 2.06.94-2.06 2.06-.94-2.06-.94-.94-2.06-.94 2.06-2.06.94zm-11 1L8.5 8.5l.94-2.06 2.06-.94-2.06-.94L8.5 2.5l-.94 2.06-2.06.94zm10 10l.94 2.06.94-2.06 2.06-.94-2.06-.94-.94-2.06-.94 2.06-2.06.94z\"/><path d=\"M17.41 7.96l-1.37-1.37c-.4-.4-.92-.59-1.43-.59-.52 0-1.04.2-1.43.59L10.3 9.45l-7.72 7.72c-.78.78-.78 2.05 0 2.83L4 21.41c.39.39.9.59 1.41.59.51 0 1.02-.2 1.41-.59l7.78-7.78 2.81-2.81c.8-.78.8-2.07 0-2.86zM5.41 20L4 18.59l7.72-7.72 1.47 1.35L5.41 20z\"/>\n",
              "  </svg>\n",
              "      </button>\n",
              "      \n",
              "  <style>\n",
              "    .colab-df-container {\n",
              "      display:flex;\n",
              "      flex-wrap:wrap;\n",
              "      gap: 12px;\n",
              "    }\n",
              "\n",
              "    .colab-df-convert {\n",
              "      background-color: #E8F0FE;\n",
              "      border: none;\n",
              "      border-radius: 50%;\n",
              "      cursor: pointer;\n",
              "      display: none;\n",
              "      fill: #1967D2;\n",
              "      height: 32px;\n",
              "      padding: 0 0 0 0;\n",
              "      width: 32px;\n",
              "    }\n",
              "\n",
              "    .colab-df-convert:hover {\n",
              "      background-color: #E2EBFA;\n",
              "      box-shadow: 0px 1px 2px rgba(60, 64, 67, 0.3), 0px 1px 3px 1px rgba(60, 64, 67, 0.15);\n",
              "      fill: #174EA6;\n",
              "    }\n",
              "\n",
              "    [theme=dark] .colab-df-convert {\n",
              "      background-color: #3B4455;\n",
              "      fill: #D2E3FC;\n",
              "    }\n",
              "\n",
              "    [theme=dark] .colab-df-convert:hover {\n",
              "      background-color: #434B5C;\n",
              "      box-shadow: 0px 1px 3px 1px rgba(0, 0, 0, 0.15);\n",
              "      filter: drop-shadow(0px 1px 2px rgba(0, 0, 0, 0.3));\n",
              "      fill: #FFFFFF;\n",
              "    }\n",
              "  </style>\n",
              "\n",
              "      <script>\n",
              "        const buttonEl =\n",
              "          document.querySelector('#df-e84fed60-5e7f-4e57-bbbc-4685190089c1 button.colab-df-convert');\n",
              "        buttonEl.style.display =\n",
              "          google.colab.kernel.accessAllowed ? 'block' : 'none';\n",
              "\n",
              "        async function convertToInteractive(key) {\n",
              "          const element = document.querySelector('#df-e84fed60-5e7f-4e57-bbbc-4685190089c1');\n",
              "          const dataTable =\n",
              "            await google.colab.kernel.invokeFunction('convertToInteractive',\n",
              "                                                     [key], {});\n",
              "          if (!dataTable) return;\n",
              "\n",
              "          const docLinkHtml = 'Like what you see? Visit the ' +\n",
              "            '<a target=\"_blank\" href=https://colab.research.google.com/notebooks/data_table.ipynb>data table notebook</a>'\n",
              "            + ' to learn more about interactive tables.';\n",
              "          element.innerHTML = '';\n",
              "          dataTable['output_type'] = 'display_data';\n",
              "          await google.colab.output.renderOutput(dataTable, element);\n",
              "          const docLink = document.createElement('div');\n",
              "          docLink.innerHTML = docLinkHtml;\n",
              "          element.appendChild(docLink);\n",
              "        }\n",
              "      </script>\n",
              "    </div>\n",
              "  </div>\n",
              "  "
            ]
          },
          "metadata": {},
          "execution_count": 33
        }
      ]
    },
    {
      "cell_type": "code",
      "source": [
        "#education variable overview\n",
        "df.mom_education.value_counts()"
      ],
      "metadata": {
        "colab": {
          "base_uri": "https://localhost:8080/"
        },
        "id": "nWlPBNU4yieI",
        "outputId": "53e8addb-3a8e-4e1b-bebd-ecbe6e55b5c0"
      },
      "execution_count": 35,
      "outputs": [
        {
          "output_type": "execute_result",
          "data": {
            "text/plain": [
              "SOME COLLEGE                              1721\n",
              "HIGH SCHOOL DIPLOMA/EQUIVALENT            1306\n",
              "BACHELOR'S DEGREE                         1085\n",
              "MASTER'S DEGREE (MA, MS)                   387\n",
              "VOC/TECH PROGRAM                           294\n",
              "9TH - 12TH GRADE                           222\n",
              "GRADUATE/PROFESSIONAL SCHOOL-NO DEGREE     170\n",
              "8TH GRADE OR BELOW                         134\n",
              "DOCTORATE OR PROFESSIONAL DEGREE           110\n",
              "Name: mom_education, dtype: int64"
            ]
          },
          "metadata": {},
          "execution_count": 35
        }
      ]
    },
    {
      "cell_type": "code",
      "source": [
        "#Transforming education variable\n",
        "df [ \"dad_higher_education\"] = np.where((df.dad_education == \"BACHELOR'S DEGREE\") |\n",
        "                                        (df.dad_education == \"MASTER'S DEGREE (MA, MS)\") |\n",
        "                                        (df.dad_education == \"DOCTORATE OR PROFESSIONAL DEGREE\"), \n",
        "                                        1, 0)"
      ],
      "metadata": {
        "id": "b-zdlMCPzLiU"
      },
      "execution_count": 37,
      "outputs": []
    },
    {
      "cell_type": "code",
      "source": [
        "df.head(1)"
      ],
      "metadata": {
        "colab": {
          "base_uri": "https://localhost:8080/",
          "height": 197
        },
        "id": "L-qrDbjgzupH",
        "outputId": "6b8ebec5-30a0-4a6c-c816-6d4500789535"
      },
      "execution_count": 38,
      "outputs": [
        {
          "output_type": "execute_result",
          "data": {
            "text/plain": [
              "   catholic                 race  number_places_lived  mom_age  dad_age  \\\n",
              "0         0  WHITE, NON-HISPANIC                    1       47       45   \n",
              "\n",
              "                      dad_education mom_education  mom_score  dad_score  \\\n",
              "0  DOCTORATE OR PROFESSIONAL DEGREE  SOME COLLEGE       53.5       77.5   \n",
              "\n",
              "    income  poverty  food_stamps  score_standardized  race_white  \\\n",
              "0  62500.5        0            0            0.981753           1   \n",
              "\n",
              "   race_hispanic  race_black  race_asian  dad_higher_education  \n",
              "0              0           0           0                     1  "
            ],
            "text/html": [
              "\n",
              "  <div id=\"df-8d5dab19-d104-4ce0-bbc8-22e330a331b2\">\n",
              "    <div class=\"colab-df-container\">\n",
              "      <div>\n",
              "<style scoped>\n",
              "    .dataframe tbody tr th:only-of-type {\n",
              "        vertical-align: middle;\n",
              "    }\n",
              "\n",
              "    .dataframe tbody tr th {\n",
              "        vertical-align: top;\n",
              "    }\n",
              "\n",
              "    .dataframe thead th {\n",
              "        text-align: right;\n",
              "    }\n",
              "</style>\n",
              "<table border=\"1\" class=\"dataframe\">\n",
              "  <thead>\n",
              "    <tr style=\"text-align: right;\">\n",
              "      <th></th>\n",
              "      <th>catholic</th>\n",
              "      <th>race</th>\n",
              "      <th>number_places_lived</th>\n",
              "      <th>mom_age</th>\n",
              "      <th>dad_age</th>\n",
              "      <th>dad_education</th>\n",
              "      <th>mom_education</th>\n",
              "      <th>mom_score</th>\n",
              "      <th>dad_score</th>\n",
              "      <th>income</th>\n",
              "      <th>poverty</th>\n",
              "      <th>food_stamps</th>\n",
              "      <th>score_standardized</th>\n",
              "      <th>race_white</th>\n",
              "      <th>race_hispanic</th>\n",
              "      <th>race_black</th>\n",
              "      <th>race_asian</th>\n",
              "      <th>dad_higher_education</th>\n",
              "    </tr>\n",
              "  </thead>\n",
              "  <tbody>\n",
              "    <tr>\n",
              "      <th>0</th>\n",
              "      <td>0</td>\n",
              "      <td>WHITE, NON-HISPANIC</td>\n",
              "      <td>1</td>\n",
              "      <td>47</td>\n",
              "      <td>45</td>\n",
              "      <td>DOCTORATE OR PROFESSIONAL DEGREE</td>\n",
              "      <td>SOME COLLEGE</td>\n",
              "      <td>53.5</td>\n",
              "      <td>77.5</td>\n",
              "      <td>62500.5</td>\n",
              "      <td>0</td>\n",
              "      <td>0</td>\n",
              "      <td>0.981753</td>\n",
              "      <td>1</td>\n",
              "      <td>0</td>\n",
              "      <td>0</td>\n",
              "      <td>0</td>\n",
              "      <td>1</td>\n",
              "    </tr>\n",
              "  </tbody>\n",
              "</table>\n",
              "</div>\n",
              "      <button class=\"colab-df-convert\" onclick=\"convertToInteractive('df-8d5dab19-d104-4ce0-bbc8-22e330a331b2')\"\n",
              "              title=\"Convert this dataframe to an interactive table.\"\n",
              "              style=\"display:none;\">\n",
              "        \n",
              "  <svg xmlns=\"http://www.w3.org/2000/svg\" height=\"24px\"viewBox=\"0 0 24 24\"\n",
              "       width=\"24px\">\n",
              "    <path d=\"M0 0h24v24H0V0z\" fill=\"none\"/>\n",
              "    <path d=\"M18.56 5.44l.94 2.06.94-2.06 2.06-.94-2.06-.94-.94-2.06-.94 2.06-2.06.94zm-11 1L8.5 8.5l.94-2.06 2.06-.94-2.06-.94L8.5 2.5l-.94 2.06-2.06.94zm10 10l.94 2.06.94-2.06 2.06-.94-2.06-.94-.94-2.06-.94 2.06-2.06.94z\"/><path d=\"M17.41 7.96l-1.37-1.37c-.4-.4-.92-.59-1.43-.59-.52 0-1.04.2-1.43.59L10.3 9.45l-7.72 7.72c-.78.78-.78 2.05 0 2.83L4 21.41c.39.39.9.59 1.41.59.51 0 1.02-.2 1.41-.59l7.78-7.78 2.81-2.81c.8-.78.8-2.07 0-2.86zM5.41 20L4 18.59l7.72-7.72 1.47 1.35L5.41 20z\"/>\n",
              "  </svg>\n",
              "      </button>\n",
              "      \n",
              "  <style>\n",
              "    .colab-df-container {\n",
              "      display:flex;\n",
              "      flex-wrap:wrap;\n",
              "      gap: 12px;\n",
              "    }\n",
              "\n",
              "    .colab-df-convert {\n",
              "      background-color: #E8F0FE;\n",
              "      border: none;\n",
              "      border-radius: 50%;\n",
              "      cursor: pointer;\n",
              "      display: none;\n",
              "      fill: #1967D2;\n",
              "      height: 32px;\n",
              "      padding: 0 0 0 0;\n",
              "      width: 32px;\n",
              "    }\n",
              "\n",
              "    .colab-df-convert:hover {\n",
              "      background-color: #E2EBFA;\n",
              "      box-shadow: 0px 1px 2px rgba(60, 64, 67, 0.3), 0px 1px 3px 1px rgba(60, 64, 67, 0.15);\n",
              "      fill: #174EA6;\n",
              "    }\n",
              "\n",
              "    [theme=dark] .colab-df-convert {\n",
              "      background-color: #3B4455;\n",
              "      fill: #D2E3FC;\n",
              "    }\n",
              "\n",
              "    [theme=dark] .colab-df-convert:hover {\n",
              "      background-color: #434B5C;\n",
              "      box-shadow: 0px 1px 3px 1px rgba(0, 0, 0, 0.15);\n",
              "      filter: drop-shadow(0px 1px 2px rgba(0, 0, 0, 0.3));\n",
              "      fill: #FFFFFF;\n",
              "    }\n",
              "  </style>\n",
              "\n",
              "      <script>\n",
              "        const buttonEl =\n",
              "          document.querySelector('#df-8d5dab19-d104-4ce0-bbc8-22e330a331b2 button.colab-df-convert');\n",
              "        buttonEl.style.display =\n",
              "          google.colab.kernel.accessAllowed ? 'block' : 'none';\n",
              "\n",
              "        async function convertToInteractive(key) {\n",
              "          const element = document.querySelector('#df-8d5dab19-d104-4ce0-bbc8-22e330a331b2');\n",
              "          const dataTable =\n",
              "            await google.colab.kernel.invokeFunction('convertToInteractive',\n",
              "                                                     [key], {});\n",
              "          if (!dataTable) return;\n",
              "\n",
              "          const docLinkHtml = 'Like what you see? Visit the ' +\n",
              "            '<a target=\"_blank\" href=https://colab.research.google.com/notebooks/data_table.ipynb>data table notebook</a>'\n",
              "            + ' to learn more about interactive tables.';\n",
              "          element.innerHTML = '';\n",
              "          dataTable['output_type'] = 'display_data';\n",
              "          await google.colab.output.renderOutput(dataTable, element);\n",
              "          const docLink = document.createElement('div');\n",
              "          docLink.innerHTML = docLinkHtml;\n",
              "          element.appendChild(docLink);\n",
              "        }\n",
              "      </script>\n",
              "    </div>\n",
              "  </div>\n",
              "  "
            ]
          },
          "metadata": {},
          "execution_count": 38
        }
      ]
    },
    {
      "cell_type": "code",
      "source": [
        "#Clean the df\n",
        "df = df.drop(columns = [\"race\", \"dad_education\", \"mom_education\"])\n",
        "df.head(1)"
      ],
      "metadata": {
        "colab": {
          "base_uri": "https://localhost:8080/",
          "height": 145
        },
        "id": "xo-dyIM-z8c1",
        "outputId": "077a6bcc-afb2-4815-b9ed-e28f0c0137c3"
      },
      "execution_count": 39,
      "outputs": [
        {
          "output_type": "execute_result",
          "data": {
            "text/plain": [
              "   catholic  number_places_lived  mom_age  dad_age  mom_score  dad_score  \\\n",
              "0         0                    1       47       45       53.5       77.5   \n",
              "\n",
              "    income  poverty  food_stamps  score_standardized  race_white  \\\n",
              "0  62500.5        0            0            0.981753           1   \n",
              "\n",
              "   race_hispanic  race_black  race_asian  dad_higher_education  \n",
              "0              0           0           0                     1  "
            ],
            "text/html": [
              "\n",
              "  <div id=\"df-d15c1075-ad3c-482e-92d0-b351c10469d5\">\n",
              "    <div class=\"colab-df-container\">\n",
              "      <div>\n",
              "<style scoped>\n",
              "    .dataframe tbody tr th:only-of-type {\n",
              "        vertical-align: middle;\n",
              "    }\n",
              "\n",
              "    .dataframe tbody tr th {\n",
              "        vertical-align: top;\n",
              "    }\n",
              "\n",
              "    .dataframe thead th {\n",
              "        text-align: right;\n",
              "    }\n",
              "</style>\n",
              "<table border=\"1\" class=\"dataframe\">\n",
              "  <thead>\n",
              "    <tr style=\"text-align: right;\">\n",
              "      <th></th>\n",
              "      <th>catholic</th>\n",
              "      <th>number_places_lived</th>\n",
              "      <th>mom_age</th>\n",
              "      <th>dad_age</th>\n",
              "      <th>mom_score</th>\n",
              "      <th>dad_score</th>\n",
              "      <th>income</th>\n",
              "      <th>poverty</th>\n",
              "      <th>food_stamps</th>\n",
              "      <th>score_standardized</th>\n",
              "      <th>race_white</th>\n",
              "      <th>race_hispanic</th>\n",
              "      <th>race_black</th>\n",
              "      <th>race_asian</th>\n",
              "      <th>dad_higher_education</th>\n",
              "    </tr>\n",
              "  </thead>\n",
              "  <tbody>\n",
              "    <tr>\n",
              "      <th>0</th>\n",
              "      <td>0</td>\n",
              "      <td>1</td>\n",
              "      <td>47</td>\n",
              "      <td>45</td>\n",
              "      <td>53.5</td>\n",
              "      <td>77.5</td>\n",
              "      <td>62500.5</td>\n",
              "      <td>0</td>\n",
              "      <td>0</td>\n",
              "      <td>0.981753</td>\n",
              "      <td>1</td>\n",
              "      <td>0</td>\n",
              "      <td>0</td>\n",
              "      <td>0</td>\n",
              "      <td>1</td>\n",
              "    </tr>\n",
              "  </tbody>\n",
              "</table>\n",
              "</div>\n",
              "      <button class=\"colab-df-convert\" onclick=\"convertToInteractive('df-d15c1075-ad3c-482e-92d0-b351c10469d5')\"\n",
              "              title=\"Convert this dataframe to an interactive table.\"\n",
              "              style=\"display:none;\">\n",
              "        \n",
              "  <svg xmlns=\"http://www.w3.org/2000/svg\" height=\"24px\"viewBox=\"0 0 24 24\"\n",
              "       width=\"24px\">\n",
              "    <path d=\"M0 0h24v24H0V0z\" fill=\"none\"/>\n",
              "    <path d=\"M18.56 5.44l.94 2.06.94-2.06 2.06-.94-2.06-.94-.94-2.06-.94 2.06-2.06.94zm-11 1L8.5 8.5l.94-2.06 2.06-.94-2.06-.94L8.5 2.5l-.94 2.06-2.06.94zm10 10l.94 2.06.94-2.06 2.06-.94-2.06-.94-.94-2.06-.94 2.06-2.06.94z\"/><path d=\"M17.41 7.96l-1.37-1.37c-.4-.4-.92-.59-1.43-.59-.52 0-1.04.2-1.43.59L10.3 9.45l-7.72 7.72c-.78.78-.78 2.05 0 2.83L4 21.41c.39.39.9.59 1.41.59.51 0 1.02-.2 1.41-.59l7.78-7.78 2.81-2.81c.8-.78.8-2.07 0-2.86zM5.41 20L4 18.59l7.72-7.72 1.47 1.35L5.41 20z\"/>\n",
              "  </svg>\n",
              "      </button>\n",
              "      \n",
              "  <style>\n",
              "    .colab-df-container {\n",
              "      display:flex;\n",
              "      flex-wrap:wrap;\n",
              "      gap: 12px;\n",
              "    }\n",
              "\n",
              "    .colab-df-convert {\n",
              "      background-color: #E8F0FE;\n",
              "      border: none;\n",
              "      border-radius: 50%;\n",
              "      cursor: pointer;\n",
              "      display: none;\n",
              "      fill: #1967D2;\n",
              "      height: 32px;\n",
              "      padding: 0 0 0 0;\n",
              "      width: 32px;\n",
              "    }\n",
              "\n",
              "    .colab-df-convert:hover {\n",
              "      background-color: #E2EBFA;\n",
              "      box-shadow: 0px 1px 2px rgba(60, 64, 67, 0.3), 0px 1px 3px 1px rgba(60, 64, 67, 0.15);\n",
              "      fill: #174EA6;\n",
              "    }\n",
              "\n",
              "    [theme=dark] .colab-df-convert {\n",
              "      background-color: #3B4455;\n",
              "      fill: #D2E3FC;\n",
              "    }\n",
              "\n",
              "    [theme=dark] .colab-df-convert:hover {\n",
              "      background-color: #434B5C;\n",
              "      box-shadow: 0px 1px 3px 1px rgba(0, 0, 0, 0.15);\n",
              "      filter: drop-shadow(0px 1px 2px rgba(0, 0, 0, 0.3));\n",
              "      fill: #FFFFFF;\n",
              "    }\n",
              "  </style>\n",
              "\n",
              "      <script>\n",
              "        const buttonEl =\n",
              "          document.querySelector('#df-d15c1075-ad3c-482e-92d0-b351c10469d5 button.colab-df-convert');\n",
              "        buttonEl.style.display =\n",
              "          google.colab.kernel.accessAllowed ? 'block' : 'none';\n",
              "\n",
              "        async function convertToInteractive(key) {\n",
              "          const element = document.querySelector('#df-d15c1075-ad3c-482e-92d0-b351c10469d5');\n",
              "          const dataTable =\n",
              "            await google.colab.kernel.invokeFunction('convertToInteractive',\n",
              "                                                     [key], {});\n",
              "          if (!dataTable) return;\n",
              "\n",
              "          const docLinkHtml = 'Like what you see? Visit the ' +\n",
              "            '<a target=\"_blank\" href=https://colab.research.google.com/notebooks/data_table.ipynb>data table notebook</a>'\n",
              "            + ' to learn more about interactive tables.';\n",
              "          element.innerHTML = '';\n",
              "          dataTable['output_type'] = 'display_data';\n",
              "          await google.colab.output.renderOutput(dataTable, element);\n",
              "          const docLink = document.createElement('div');\n",
              "          docLink.innerHTML = docLinkHtml;\n",
              "          element.appendChild(docLink);\n",
              "        }\n",
              "      </script>\n",
              "    </div>\n",
              "  </div>\n",
              "  "
            ]
          },
          "metadata": {},
          "execution_count": 39
        }
      ]
    },
    {
      "cell_type": "code",
      "source": [
        "#Isolate confounders, treat, y\n",
        "treat = df.catholic.values\n",
        "y  = df.score_standardized.values\n",
        "confounders = df.drop(columns = [\"catholic\", \"score_standardized\"]).values"
      ],
      "metadata": {
        "id": "uCO1TxOC0haW"
      },
      "execution_count": 40,
      "outputs": []
    },
    {
      "cell_type": "markdown",
      "source": [
        "#cCommon Support Region"
      ],
      "metadata": {
        "id": "FIgkd9TJ0_22"
      }
    },
    {
      "cell_type": "code",
      "source": [
        "#Logistic Regression\n",
        "import statsmodels.api as sm\n",
        "confounders_csr = sm.add_constant(confounders)\n",
        "csr_model = sm.Logit(treat, confounders_csr).fit()\n",
        "print(csr_model.summary())"
      ],
      "metadata": {
        "colab": {
          "base_uri": "https://localhost:8080/"
        },
        "id": "7nwz0dPg1_ZL",
        "outputId": "241ea78c-0e65-4872-efaa-c16eb47c3743"
      },
      "execution_count": 42,
      "outputs": [
        {
          "output_type": "stream",
          "name": "stdout",
          "text": [
            "Optimization terminated successfully.\n",
            "         Current function value: 0.431354\n",
            "         Iterations 8\n",
            "                           Logit Regression Results                           \n",
            "==============================================================================\n",
            "Dep. Variable:                      y   No. Observations:                 5429\n",
            "Model:                          Logit   Df Residuals:                     5415\n",
            "Method:                           MLE   Df Model:                           13\n",
            "Date:                Fri, 10 Mar 2023   Pseudo R-squ.:                 0.05807\n",
            "Time:                        00:09:27   Log-Likelihood:                -2341.8\n",
            "converged:                       True   LL-Null:                       -2486.2\n",
            "Covariance Type:            nonrobust   LLR p-value:                 5.489e-54\n",
            "==============================================================================\n",
            "                 coef    std err          z      P>|z|      [0.025      0.975]\n",
            "------------------------------------------------------------------------------\n",
            "const         -4.4871      0.412    -10.899      0.000      -5.294      -3.680\n",
            "x1            -0.1728      0.124     -1.395      0.163      -0.416       0.070\n",
            "x2             0.0313      0.010      3.082      0.002       0.011       0.051\n",
            "x3             0.0115      0.009      1.308      0.191      -0.006       0.029\n",
            "x4             0.0097      0.003      2.895      0.004       0.003       0.016\n",
            "x5             0.0068      0.004      1.782      0.075      -0.001       0.014\n",
            "x6           5.44e-06   9.49e-07      5.734      0.000    3.58e-06     7.3e-06\n",
            "x7            -1.1370      0.278     -4.084      0.000      -1.683      -0.591\n",
            "x8            -0.9067      0.430     -2.111      0.035      -1.749      -0.065\n",
            "x9             0.3883      0.198      1.961      0.050       0.000       0.776\n",
            "x10            0.4352      0.221      1.967      0.049       0.002       0.869\n",
            "x11           -0.0841      0.267     -0.315      0.753      -0.607       0.439\n",
            "x12           -0.0799      0.255     -0.313      0.755      -0.581       0.421\n",
            "x13           -0.0129      0.093     -0.139      0.890      -0.195       0.169\n",
            "==============================================================================\n"
          ]
        }
      ]
    },
    {
      "cell_type": "code",
      "source": [
        "#predictions\n",
        "probabilities = csr_model.predict(confounders_csr)\n",
        "probabilities"
      ],
      "metadata": {
        "colab": {
          "base_uri": "https://localhost:8080/"
        },
        "id": "oSHTcnqr2J2I",
        "outputId": "993b7f9d-4a3e-4c0f-a6a5-f73890858762"
      },
      "execution_count": 43,
      "outputs": [
        {
          "output_type": "execute_result",
          "data": {
            "text/plain": [
              "array([0.28692769, 0.18216744, 0.27167438, ..., 0.21480337, 0.12246218,\n",
              "       0.18728754])"
            ]
          },
          "metadata": {},
          "execution_count": 43
        }
      ]
    },
    {
      "cell_type": "code",
      "source": [
        "#build object with treat and probabilities\n",
        "df_prob = np.vstack([treat, probabilities])\n",
        "df_prob = np.transpose(df_prob)\n",
        "df_prob"
      ],
      "metadata": {
        "colab": {
          "base_uri": "https://localhost:8080/"
        },
        "id": "6H9YAPGc2v0o",
        "outputId": "1eb70853-ed74-4bb7-df9a-d0c0ba0bd74f"
      },
      "execution_count": 45,
      "outputs": [
        {
          "output_type": "execute_result",
          "data": {
            "text/plain": [
              "array([[0.        , 0.28692769],\n",
              "       [0.        , 0.18216744],\n",
              "       [0.        , 0.27167438],\n",
              "       ...,\n",
              "       [0.        , 0.21480337],\n",
              "       [0.        , 0.12246218],\n",
              "       [0.        , 0.18728754]])"
            ]
          },
          "metadata": {},
          "execution_count": 45
        }
      ]
    },
    {
      "cell_type": "code",
      "source": [
        "#split between treated and non-treated\n",
        "non_treated = df_prob[:,0] == 0 \n",
        "non_treated = df_prob[non_treated, 1]\n",
        "treated = df_prob[:,0] == 1 \n",
        "treated = df_prob[treated, 1]"
      ],
      "metadata": {
        "id": "d3GzJMUcDN_x"
      },
      "execution_count": 46,
      "outputs": []
    },
    {
      "cell_type": "code",
      "source": [
        "#plot common support region\n",
        "sns.kdeplot(non_treated, shade = True, color = 'red')\n",
        "sns.kdeplot(treated, shade = True, color = 'blue')"
      ],
      "metadata": {
        "colab": {
          "base_uri": "https://localhost:8080/",
          "height": 284
        },
        "id": "6WWiH9hdEFQo",
        "outputId": "a1830a9b-54bb-4d38-f3fc-1782efc2bd59"
      },
      "execution_count": 47,
      "outputs": [
        {
          "output_type": "execute_result",
          "data": {
            "text/plain": [
              "<AxesSubplot:ylabel='Density'>"
            ]
          },
          "metadata": {},
          "execution_count": 47
        },
        {
          "output_type": "display_data",
          "data": {
            "text/plain": [
              "<Figure size 432x288 with 1 Axes>"
            ],
            "image/png": "[encoded data removed]"
          },
          "metadata": {
            "needs_background": "light"
          }
        }
      ]
    },
    {
      "cell_type": "markdown",
      "source": [
        "#Matching Model"
      ],
      "metadata": {
        "id": "EkV4s4sBEZ-t"
      }
    },
    {
      "cell_type": "code",
      "source": [
        "#Matching model\n",
        "model = CausalModel(y, treat, confounders)\n",
        "model.est_via_matching (bias_adj = True)\n",
        "print(model.estimates)"
      ],
      "metadata": {
        "colab": {
          "base_uri": "https://localhost:8080/"
        },
        "id": "HDb38M75EwLg",
        "outputId": "0834f1dc-3a4a-4250-8a0d-45e03f13e284"
      },
      "execution_count": 48,
      "outputs": [
        {
          "output_type": "stream",
          "name": "stderr",
          "text": [
            "/usr/local/lib/python3.9/dist-packages/causalinference/estimators/matching.py:100: FutureWarning: `rcond` parameter will change to the default of machine precision times ``max(M, N)`` where M and N are the input matrix dimensions.\n",
            "To use the future default and silence this warning we advise to pass `rcond=None`, to keep using the old, explicitly pass `rcond=-1`.\n",
            "  return np.linalg.lstsq(X, Y)[0][1:]  # don't need intercept coef\n"
          ]
        },
        {
          "output_type": "stream",
          "name": "stdout",
          "text": [
            "\n",
            "Treatment Effect Estimates: Matching\n",
            "\n",
            "                     Est.       S.e.          z      P>|z|      [95% Conf. int.]\n",
            "--------------------------------------------------------------------------------\n",
            "           ATE     -0.110      0.066     -1.673      0.094     -0.239      0.019\n",
            "           ATC     -0.098      0.073     -1.334      0.182     -0.241      0.046\n",
            "           ATT     -0.170      0.061     -2.807      0.005     -0.289     -0.051\n",
            "\n"
          ]
        }
      ]
    },
    {
      "cell_type": "markdown",
      "source": [
        "#Robustness check-repeated samples"
      ],
      "metadata": {
        "id": "hd_-0I5MFE3_"
      }
    },
    {
      "cell_type": "code",
      "source": [
        "#isolate the coefficient\n",
        "model.estimates [ 'matching']['ate']"
      ],
      "metadata": {
        "colab": {
          "base_uri": "https://localhost:8080/"
        },
        "id": "DPF4AU9aGfDT",
        "outputId": "40eb0ff7-991e-45da-c31f-75e0b27778d1"
      },
      "execution_count": 50,
      "outputs": [
        {
          "output_type": "execute_result",
          "data": {
            "text/plain": [
              "-0.1099856209605504"
            ]
          },
          "metadata": {},
          "execution_count": 50
        }
      ]
    },
    {
      "cell_type": "code",
      "source": [
        "#While loop\n",
        "ate = {}\n",
        "i = 0\n",
        "\n",
        "#Loop\n",
        "while i < 1000:\n",
        "  #Sampling\n",
        "  sample = df.sample(1000)\n",
        "\n",
        "  #isolation of treat, y and confounders\n",
        "  treat = sample.catholic.values\n",
        "  y  = sample.score_standardized.values\n",
        "  confounders = sample.drop(columns = [\"catholic\", \"score_standardized\"]).values\n",
        "  \n",
        "  #matching model\n",
        "  model = CausalModel(y, treat, confounders)\n",
        "  model.est_via_matching (bias_adj = True)\n",
        "\n",
        "  #store the results\n",
        "  ate[i] = model.estimates['matching']['ate']\n",
        "\n",
        "  print(i)\n",
        "  i+= 1"
      ],
      "metadata": {
        "id": "3Imn3pGGGmrT"
      },
      "execution_count": null,
      "outputs": []
    },
    {
      "cell_type": "code",
      "source": [
        "#Visualize results\n",
        "ate = pd.Series(ate)\n",
        "print(ate.hist())\n",
        "print(ate.mean())"
      ],
      "metadata": {
        "colab": {
          "base_uri": "https://localhost:8080/",
          "height": 300
        },
        "id": "cZZe7DRkIMjs",
        "outputId": "845ed8fa-e23a-4df5-b174-0faa1b8f2720"
      },
      "execution_count": 52,
      "outputs": [
        {
          "output_type": "stream",
          "name": "stdout",
          "text": [
            "AxesSubplot(0.125,0.125;0.775x0.755)\n",
            "-0.1050944931405555\n"
          ]
        },
        {
          "output_type": "display_data",
          "data": {
            "text/plain": [
              "<Figure size 432x288 with 1 Axes>"
            ],
            "image/png": "[encoded data removed]"
          },
          "metadata": {
            "needs_background": "light"
          }
        }
      ]
    },
    {
      "cell_type": "markdown",
      "source": [
        "#Robustness check - removing 1 confounder"
      ],
      "metadata": {
        "id": "afiSkeG9IySv"
      }
    },
    {
      "cell_type": "code",
      "source": [
        "df.columns"
      ],
      "metadata": {
        "colab": {
          "base_uri": "https://localhost:8080/"
        },
        "id": "X70_6wlkJukb",
        "outputId": "2e06399e-1652-4138-faf8-bcc5f6021265"
      },
      "execution_count": 53,
      "outputs": [
        {
          "output_type": "execute_result",
          "data": {
            "text/plain": [
              "Index(['catholic', 'number_places_lived', 'mom_age', 'dad_age', 'mom_score',\n",
              "       'dad_score', 'income', 'poverty', 'food_stamps', 'score_standardized',\n",
              "       'race_white', 'race_hispanic', 'race_black', 'race_asian',\n",
              "       'dad_higher_education'],\n",
              "      dtype='object')"
            ]
          },
          "metadata": {},
          "execution_count": 53
        }
      ]
    },
    {
      "cell_type": "code",
      "source": [
        "#new confounder list of isolation of treat, y and confounders\n",
        "treat = df.catholic.values\n",
        "y  = df.score_standardized.values\n",
        "confounders = df.drop(columns = [\"catholic\", \"score_standardized\",\n",
        "                                       \"number_places_lived\"]).values"
      ],
      "metadata": {
        "id": "GKYjxosPJjMv"
      },
      "execution_count": 54,
      "outputs": []
    },
    {
      "cell_type": "code",
      "source": [
        "#matching model\n",
        "model = CausalModel(y, treat, confounders)\n",
        "model.est_via_matching (bias_adj = True)\n",
        "print(model.estimates)"
      ],
      "metadata": {
        "colab": {
          "base_uri": "https://localhost:8080/"
        },
        "id": "f1emtX2fKJDn",
        "outputId": "583601c1-934f-4324-d3cc-4f38914d4da3"
      },
      "execution_count": 55,
      "outputs": [
        {
          "output_type": "stream",
          "name": "stderr",
          "text": [
            "/usr/local/lib/python3.9/dist-packages/causalinference/estimators/matching.py:100: FutureWarning: `rcond` parameter will change to the default of machine precision times ``max(M, N)`` where M and N are the input matrix dimensions.\n",
            "To use the future default and silence this warning we advise to pass `rcond=None`, to keep using the old, explicitly pass `rcond=-1`.\n",
            "  return np.linalg.lstsq(X, Y)[0][1:]  # don't need intercept coef\n"
          ]
        },
        {
          "output_type": "stream",
          "name": "stdout",
          "text": [
            "\n",
            "Treatment Effect Estimates: Matching\n",
            "\n",
            "                     Est.       S.e.          z      P>|z|      [95% Conf. int.]\n",
            "--------------------------------------------------------------------------------\n",
            "           ATE     -0.107      0.066     -1.616      0.106     -0.238      0.023\n",
            "           ATC     -0.101      0.074     -1.360      0.174     -0.246      0.044\n",
            "           ATT     -0.140      0.061     -2.308      0.021     -0.259     -0.021\n",
            "\n"
          ]
        }
      ]
    },
    {
      "cell_type": "code",
      "source": [],
      "metadata": {
        "id": "teBxhXckKT6h"
      },
      "execution_count": null,
      "outputs": []
    }
  ],
  "metadata": {
    "colab": {
      "provenance": [],
      "mount_file_id": "10GeVAqzKEP8IlJDmB2A-bBOtbAATreK9",
      "authorship_tag": "ABX9TyMO8BoNyNIm0GnKgzI5zswf",
      "include_colab_link": true
    },
    "kernelspec": {
      "display_name": "Python 3",
      "name": "python3"
    },
    "language_info": {
      "name": "python"
    }
  },
  "nbformat": 4,
  "nbformat_minor": 0
}